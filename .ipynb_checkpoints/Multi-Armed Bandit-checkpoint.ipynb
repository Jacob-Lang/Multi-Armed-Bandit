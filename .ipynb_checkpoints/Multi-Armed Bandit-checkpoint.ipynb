{
 "cells": [
  {
   "cell_type": "markdown",
   "metadata": {},
   "source": [
    "# Multi-Armed Bandit\n",
    "\n",
    "A one-armed bandit is a machine in a casino with a lever arm that is pulled. The machine will return a reward with some pre-programmed probability.  \n",
    "<img src=\"one_armed_bandit.jpg\" alt=\"one_armed_bandit\" style=\"height: 200px;\"/>  \n",
    "\n",
    "When there are more than one bandit machines we call this a **multi-armed bandit**. We know that some of the arms have a higher probability of giving a reward and we would like to pull these arms the most often. But to determine which arm returns the best odds we first need to try all the arms out a number of times. This demonstrates the exploitation-exploration trade-off often encountered in reinforcement learning scenarios. The problem can also be mapped to many real world situations (e.g. deciding which is the best restaurant in your local area) so it interesting to look at some solutions to this problem.   \n",
    "<img src=\"multi_armed_bandit.jpg\" alt=\"multi_armed_bandit\" style=\"height: 200px;\"/>\n",
    "\n",
    "\n",
    "Here I simulate a multi-armed bandit (MAB) and some agents to play the MAB with different strategies. Each arm in my MAB returns a reward +1 with a probability $p_{success}$ and zero reward with a probability $1-p_{successs}$. The $p_{success}$ for each arm is randomly decided each time the MAB is simulated and the agents do not know the underlying $p_{success}$ values.\n",
    "\n",
    "First I will create a MAB class and classes for each of the different strategy agents.\n",
    "\n",
    "## Dependencies"
   ]
  },
  {
   "cell_type": "code",
   "execution_count": 1,
   "metadata": {},
   "outputs": [],
   "source": [
    "import matplotlib.pyplot as plt\n",
    "from matplotlib.offsetbox import AnchoredText\n",
    "import numpy as np\n",
    "from scipy.stats import beta\n",
    "from scipy.optimize import root\n",
    "import ipywidgets as widgets\n",
    "from IPython.display import display, clear_output\n",
    "import functools \n",
    "import time"
   ]
  },
  {
   "cell_type": "markdown",
   "metadata": {},
   "source": [
    "## The MAB and agent classes"
   ]
  },
  {
   "cell_type": "code",
   "execution_count": 2,
   "metadata": {},
   "outputs": [],
   "source": [
    "# The environemnt\n",
    "class MABEnv():\n",
    "    \"\"\"Multi-Armed Bandit class. Builds a MAB with n_arms arms.\"\"\"\n",
    "    def __init__(self, n_arms=5):\n",
    "        # build MAB with n_arms\n",
    "        self.n_arms = n_arms\n",
    "        self.reset()\n",
    "        # output for render function\n",
    "        self.output = widgets.Output()\n",
    "        display(self.output)\n",
    "\n",
    "                     \n",
    "    def reset(self):\n",
    "        # set probability of success for each arm. even spread\n",
    "        dp = 1/(self.n_arms+1)\n",
    "        self.p_success = dp*np.arange(1, self.n_arms+1)\n",
    "        np.random.shuffle(self.p_success)\n",
    "        self.p_max = max(self.p_success)\n",
    "        self.arg_min = np.argmax(-self.p_success)\n",
    "        \n",
    "        ## store info\n",
    "        # arm successes\n",
    "        self.reward_history = [[0, 0] for _ in range(self.n_arms)]   # [n,k] = [number of trials, number of successes]\n",
    "        # turn by turn rewards\n",
    "        self.rewards = []\n",
    "        # expected regret due to particular strategy\n",
    "        self.expected_regret = []\n",
    "        \n",
    "    def step(self, arm, render=False):\n",
    "        # pull desired arm\n",
    "        reward = np.random.binomial(1, self.p_success[arm])\n",
    "        \n",
    "        ## store info \n",
    "        self.reward_history[arm][0] += 1\n",
    "        self.reward_history[arm][1] += reward\n",
    "        self.rewards.append(reward)\n",
    "        self.expected_regret.append(self.p_max - reward)\n",
    "        \n",
    "        return reward\n",
    "   \n",
    "        \n",
    "    def render(self, show_mean=True, show_dist=True, show_actual_p=True):\n",
    "        ## plots P(p_success|n,k) for each arm      \n",
    "        \n",
    "        with self.output:\n",
    "            fig, axs = plt.subplots(self.n_arms, 1, sharex=True, figsize=(10, 10))\n",
    "            \n",
    "            for i_arm in range(self.n_arms):\n",
    "                ax = axs[i_arm] \n",
    "                # plot expected distribution of p_success.\n",
    "                # This is a beta distribution with alpha=k+1, beta=n-k+1\n",
    "                n, k = self.reward_history[i_arm]\n",
    "                \n",
    "                # plot\n",
    "                if show_actual_p:\n",
    "                    actual_p = self.p_success[i_arm]\n",
    "                    ax.axvline(actual_p, c='k', ls='--', label='Actual $p_{success}$')\n",
    "                if show_dist:\n",
    "                    #pdf\n",
    "                    p_scan = np.linspace(0,1,101)\n",
    "                    p_pdf = beta.pdf(p_scan, k + 1,n - k + 1)\n",
    "                    # ucb.\n",
    "                    p_cdf = beta.cdf(p_scan, k + 1,n - k + 1)\n",
    "                    ucb_index = np.argmin(abs(p_cdf - 0.95))\n",
    "                    ucb = p_scan[ucb_index]\n",
    "                    # plot\n",
    "                    ax.plot(p_scan, p_pdf, c='r', label='$P(p_{success}|n,k)$')\n",
    "                    ax.axvline(ucb, c='r', ls=':', label='95% UCB')            \n",
    "                if show_mean:\n",
    "                    if n != 0:\n",
    "                        mean_reward = k/n\n",
    "                    else:\n",
    "                        mean_reward = 0.5\n",
    "                    ax.axvline(mean_reward, c='b', ls='--', label='Mean reward')  \n",
    "                \n",
    "                # make pretty\n",
    "                ax.axes.set_yticks([])\n",
    "                ax.set_ylabel(\"Arm \" + str(i_arm+1))\n",
    "                ax.set_xlim([-0.05,1.05])\n",
    "                info_string = \"n = \" + str(n) + \"\\n\" + \"k = \" + str(k)\n",
    "                anchored_text = AnchoredText(info_string, loc=2)\n",
    "                ax.add_artist(anchored_text)\n",
    "        \n",
    "        \n",
    "            axs[0].set_title(\"Results\")\n",
    "            axs[-1].set_xlabel(\"$p_{success}$\")\n",
    "            \n",
    "            # add legend to lowest probability arm so there is space on right of plot\n",
    "            axs[self.arg_min].legend(loc='upper right')\n",
    "\n",
    "            # clear any output from previous call\n",
    "            clear_output(wait=True)\n",
    "            plt.show(fig)\n",
    "\n",
    "\n",
    "## Agents\n",
    "    \n",
    "class RandomAgent():\n",
    "    \"\"\"This agent chooses an arm at random\"\"\"\n",
    "    def __init__(self, env):\n",
    "        self.n_arms = env.n_arms\n",
    "        \n",
    "    def choose_arm(self):\n",
    "        choice = np.random.randint(0, self.n_arms)\n",
    "        return choice\n",
    "    \n",
    "    \n",
    "class OmniscientAgent():\n",
    "    \"\"\"This agent only pulls the best arm - not possible in reality\"\"\"\n",
    "    def __init__(self, env):\n",
    "        self.env = env\n",
    "        \n",
    "    def choose_arm(self):\n",
    "        # This agent is cheating by looking at the p_success values for each arm\n",
    "        self.best_arm = np.argmax(self.env.p_success)\n",
    "        choice = self.best_arm\n",
    "        return choice\n",
    "    \n",
    "    \n",
    "class EpsilonGreedyAgent():\n",
    "    \"\"\"This agent pulls the arm with the best mean reward so far.\n",
    "        Except with probability epsilon it pulls a random arm to aid exploration.\"\"\"\n",
    "    def __init__(self, env, epsilon=0.05):\n",
    "        self.n_arms = env.n_arms\n",
    "        self.epsilon = epsilon\n",
    "        self.env = env\n",
    "        \n",
    "    def choose_arm(self):\n",
    "        ## Mean reward for each arm is k/n\n",
    "        \n",
    "        ## Must play each arm once before comparing\n",
    "        for arm in range(self.n_arms):\n",
    "            n = self.env.reward_history[arm][0]\n",
    "            if n == 0:\n",
    "                choice = arm\n",
    "                return choice\n",
    "        \n",
    "        mean_rewards = [k/n for [n,k] in self.env.reward_history]\n",
    "        \n",
    "        random_number = np.random.random()\n",
    "        if random_number < (1 - self.epsilon):\n",
    "            # Most of the time choose arm with largest expected p_success\n",
    "            choice = np.argmax(mean_rewards)\n",
    "        else: \n",
    "            choice = np.random.randint(0, self.n_arms)\n",
    "        \n",
    "        return choice\n",
    "    \n",
    "    \n",
    "class UCBAgent():\n",
    "    \"\"\"This agent models the probaility distribution of p_success of each arm given the data so far.\n",
    "        i.e P(p_success|n,k). It then chooses the arm with the higher upper confidence bound (ucb).\"\"\"\n",
    "    def __init__(self, env, epsilon=0.05):\n",
    "        self.n_arms = env.n_arms\n",
    "        self.env = env        \n",
    "        \n",
    "    def choose_arm(self):\n",
    "        ## Model p_success with Beta distribution.\n",
    "        \n",
    "        ## Must play each arm once before comparing\n",
    "        for arm in range(self.n_arms):\n",
    "            n = self.env.reward_history[arm][0]\n",
    "            if n == 0:\n",
    "                choice = arm\n",
    "                return choice\n",
    "            \n",
    "        # Choose arm with highest 95% upper confidence limit\n",
    "        p_scan = np.linspace(0,1,101)\n",
    "        beta_ucbs = np.zeros(self.n_arms)\n",
    "        for arm in range(self.n_arms):\n",
    "            n, k = self.env.reward_history[arm]\n",
    "            # calculate ucb numerically with cumulative distribution function (cdf).\n",
    "            p_cdf = beta.cdf(p_scan, k + 1,n - k + 1)\n",
    "            ucb_index = np.argmin(abs(p_cdf - 0.95))\n",
    "            ucb = p_scan[ucb_index]\n",
    "            beta_ucbs[arm] = ucb\n",
    "        \n",
    "        choice = np.argmax(beta_ucbs)\n",
    "    \n",
    "        return choice\n",
    "    \n",
    "    \n",
    "class HumanAgent():\n",
    "    \"\"\"This allows a user to play the MAB via widget buttons.\"\"\"\n",
    "    def __init__(self, env, render_options={'show_mean': False, 'show_dist': False}):\n",
    "        self.n_arms = env.n_arms\n",
    "        self.env = env\n",
    "        # widget buttons for each arm\n",
    "        self.buttons = [widgets.Button(description=str(i_arm+1)) for i_arm in range(self.n_arms)]\n",
    "        # output for win/lose display\n",
    "        output = widgets.Output(layout=widgets.Layout(height='30px')) # for feedback\n",
    "        output2 = widgets.Output(layout=widgets.Layout(height='60px')) # for running total\n",
    "        display(widgets.VBox(self.buttons + [output, output2]))\n",
    "        \n",
    "        # optionally render the info on previous arm pulls\n",
    "        self.render_options = render_options\n",
    "        if self.render_options['show_mean'] or self.render_options['show_dist']:\n",
    "            env.render(show_mean=self.render_options['show_mean'], \n",
    "                       show_dist=self.render_options['show_dist'], \n",
    "                       show_actual_p=False)\n",
    "        \n",
    "        # function called when button pushed\n",
    "        def store_choice(_, i_button):\n",
    "            reward = self.env.step(i_button)\n",
    "\n",
    "            # feedback for user\n",
    "            with output:\n",
    "                print(\"...\")\n",
    "                time.sleep(0.2)\n",
    "                clear_output()\n",
    "                if reward == 0:\n",
    "                    print(\"Not this time :(\")\n",
    "                elif reward == 1:\n",
    "                    print(\"WINNER! :)\")\n",
    "                time.sleep(1)\n",
    "                clear_output()\n",
    "            with output2:\n",
    "                print(\"Number of goes: \" + str(len(env.rewards)))\n",
    "                print(\"Total reward: \" + str(sum(env.rewards)))\n",
    "                clear_output(wait=True)\n",
    "            \n",
    "            # optionally render the info on previous arm pulls\n",
    "            if self.render_options['show_mean'] or self.render_options['show_dist']:\n",
    "                env.render(show_mean=self.render_options['show_mean'], \n",
    "                           show_dist=self.render_options['show_dist'], \n",
    "                           show_actual_p=False)\n",
    "        \n",
    "        # tell the buttons what to do when pushed\n",
    "        for i_button in range(self.n_arms):\n",
    "            button = self.buttons[i_button]\n",
    "            button.on_click(functools.partial(store_choice, i_button=i_button))\n"
   ]
  },
  {
   "cell_type": "markdown",
   "metadata": {},
   "source": [
    "## Have a go\n",
    "\n",
    "1. First of all have a go yourself. How well do you do after 20 presses?   \n",
    "2. Then try setting 'show_mean'=True to see your average reward for each arm as you go. Does this info change how you play the game?   (You'll have to rerun the cell to reset the environment)\n",
    "3. Now try setting 'show_dist'=True. This will plot the a probability distributon for $p_{success}$ with a 95% upper confidence bound. Does this change your strategy again? Did your score improve? (Remember to rerun the cell each time you want to start from zero.)\n"
   ]
  },
  {
   "cell_type": "code",
   "execution_count": 5,
   "metadata": {
    "scrolled": false
   },
   "outputs": [
    {
     "data": {
      "application/vnd.jupyter.widget-view+json": {
       "model_id": "fc855408a4e54e3eb5c3d14775a903ad",
       "version_major": 2,
       "version_minor": 0
      },
      "text/plain": [
       "Output()"
      ]
     },
     "metadata": {},
     "output_type": "display_data"
    },
    {
     "data": {
      "application/vnd.jupyter.widget-view+json": {
       "model_id": "8ecc92bf047348499e5c72be77d5e64d",
       "version_major": 2,
       "version_minor": 0
      },
      "text/plain": [
       "VBox(children=(Button(description='1', style=ButtonStyle()), Button(description='2', style=ButtonStyle()), But…"
      ]
     },
     "metadata": {},
     "output_type": "display_data"
    }
   ],
   "source": [
    "env = MABEnv(n_arms=4)\n",
    "agent = HumanAgent(env, render_options={'show_mean': True, 'show_dist': True})"
   ]
  },
  {
   "cell_type": "markdown",
   "metadata": {},
   "source": [
    "Hopefully you are now getting a gist for the problem, the importance of exploration vs exploitation and you may already have worked a decent strategy. \n",
    "\n",
    "## Different solutions \n",
    "\n",
    "Here we present 4 different solutions to the MAB problem and compare them. The standard way to compare MAB algorithms is to look at their _regret_ which I will explain momentarily. \n",
    "\n",
    "The first solution I will present is a cheat. This is an omniscient agent that always knows the correct arm to pull for the highest expected reward. Note that this doesn't work in real life. The regret of the omniscient agent is 0 by definition as it never made a mistake and chose a suboptimal arm. \n",
    "\n",
    "The regret for other agents then is the difference between the expected reward from the optimal arm and the expected reward from the arm we actually pulled. \n",
    "\n",
    "The 3 other agents are:\n",
    "\n",
    "1. A random agent that chooses arms at random\n",
    "\n",
    "2. An epsilon greedy agent which calculates the mean reward for each arm and chooses the arm with highest mean reward. Except with a probablity epsilon it chooses a random arm to aid exploration. \n",
    "\n",
    "3. An upper confidence bound (UCB) agent which estimates a probability distribution for $p_{success}$ for each arm and chooses the arm with the highest UCB.\n"
   ]
  },
  {
   "cell_type": "code",
   "execution_count": 6,
   "metadata": {},
   "outputs": [
    {
     "data": {
      "application/vnd.jupyter.widget-view+json": {
       "model_id": "43b8aefa27b24112acf1fe44ca2b7146",
       "version_major": 2,
       "version_minor": 0
      },
      "text/plain": [
       "Output()"
      ]
     },
     "metadata": {},
     "output_type": "display_data"
    }
   ],
   "source": [
    "# Numerical experiment to measure the regret for each agent over multiple runs. \n",
    "\n",
    "agents = [OmniscientAgent, RandomAgent, EpsilonGreedyAgent, UCBAgent]\n",
    "\n",
    "n_arms = 4\n",
    "total_pulls = 200\n",
    "n_agents = len(agents)\n",
    "n_runs = 20\n",
    "\n",
    "regret_data = np.zeros((n_agents, n_runs, total_pulls))\n",
    "\n",
    "env = MABEnv(n_arms=n_arms)\n",
    "\n",
    "for i_agent in range(n_agents):\n",
    "    agent = agents[i_agent](env)\n",
    "    \n",
    "    for i_run in range(n_runs):\n",
    "        env.reset()\n",
    "    \n",
    "        for _ in range(total_pulls):\n",
    "            \n",
    "            action = agent.choose_arm()\n",
    "            reward = env.step(action)\n",
    "\n",
    "        regret_data[i_agent, i_run, :] = env.expected_regret\n"
   ]
  },
  {
   "cell_type": "code",
   "execution_count": 7,
   "metadata": {
    "scrolled": true
   },
   "outputs": [
    {
     "data": {
      "image/png": "[encoded data removed]",
      "text/plain": [
       "<Figure size 432x288 with 1 Axes>"
      ]
     },
     "metadata": {
      "needs_background": "light"
     },
     "output_type": "display_data"
    }
   ],
   "source": [
    "# Plot the average regret for each agent\n",
    "\n",
    "colors = ['b', 'k', 'r', 'cyan']\n",
    "\n",
    "x = range(total_pulls)\n",
    "mean_regret = regret_data.mean(axis=1)\n",
    "\n",
    "\n",
    "plt.figure()\n",
    "for i_agent in range(n_agents):\n",
    "    y = np.cumsum(mean_regret[i_agent,:])\n",
    "    plt.plot(x, y, c=colors[i_agent], label=str(agents[i_agent].__name__))\n",
    "plt.legend();\n",
    "\n"
   ]
  },
  {
   "cell_type": "markdown",
   "metadata": {},
   "source": [
    "So we see that the UCB agent performs best. (Except for the cheater omniscient agent - Note the omniscient agent regret is not exactly zero as it has been simulated through random trials.)\n",
    "\n",
    "If you want to see how the UCB agent makes its choices turn by turn then run this next cell."
   ]
  },
  {
   "cell_type": "code",
   "execution_count": 9,
   "metadata": {},
   "outputs": [
    {
     "data": {
      "application/vnd.jupyter.widget-view+json": {
       "model_id": "8213c90123234a76a5d438828840fd71",
       "version_major": 2,
       "version_minor": 0
      },
      "text/plain": [
       "Output()"
      ]
     },
     "metadata": {},
     "output_type": "display_data"
    }
   ],
   "source": [
    "## test render\n",
    "\n",
    "n_arms = 3\n",
    "total_pulls = 20\n",
    "env = MABEnv(n_arms=n_arms)\n",
    "agent = UCBAgent(env)\n",
    "\n",
    "\n",
    "for _ in range(total_pulls):\n",
    "    action = agent.choose_arm()\n",
    "    reward = env.step(action)\n",
    "    env.render()    \n",
    "    time.sleep(1)\n"
   ]
  },
  {
   "cell_type": "markdown",
   "metadata": {},
   "source": [
    "## Conclusion\n",
    "\n",
    "Here I have explained the multi-armed bandit problem and a few of the known solutions. This problem teaches us a lot about the exploration-exploitation trade off and is applicable to many real-world situations."
   ]
  },
  {
   "cell_type": "code",
   "execution_count": null,
   "metadata": {},
   "outputs": [],
   "source": []
  }
 ],
 "metadata": {
  "kernelspec": {
   "display_name": "mab_env",
   "language": "python",
   "name": "mab_env"
  },
  "language_info": {
   "codemirror_mode": {
    "name": "ipython",
    "version": 3
   },
   "file_extension": ".py",
   "mimetype": "text/x-python",
   "name": "python",
   "nbconvert_exporter": "python",
   "pygments_lexer": "ipython3",
   "version": "3.8.2"
  }
 },
 "nbformat": 4,
 "nbformat_minor": 4
}
